{
 "cells": [
  {
   "cell_type": "code",
   "execution_count": 18,
   "metadata": {},
   "outputs": [],
   "source": [
    "import tensorflow as tf\n",
    "import matplotlib.pyplot as plt\n",
    "import time"
   ]
  },
  {
   "cell_type": "code",
   "execution_count": 5,
   "metadata": {},
   "outputs": [],
   "source": [
    "#importing the mnist dataset from keras which 28x28 images of handwritten numbers from 0-9\n",
    "mnist=tf.keras.datasets.mnist"
   ]
  },
  {
   "cell_type": "code",
   "execution_count": 7,
   "metadata": {},
   "outputs": [
    {
     "name": "stdout",
     "output_type": "stream",
     "text": [
      "Downloading data from https://storage.googleapis.com/tensorflow/tf-keras-datasets/mnist.npz\n",
      "11493376/11490434 [==============================] - 2s 0us/step\n"
     ]
    }
   ],
   "source": [
    "#dividing the imported data as training and test set\n",
    "(x_train,y_train),(x_test,y_test)=mnist.load_data()"
   ]
  },
  {
   "cell_type": "code",
   "execution_count": 14,
   "metadata": {
    "collapsed": true
   },
   "outputs": [],
   "source": [
    "#normalizing the data between 0 to 1 as the pixel data is 0-255 and normalizing makes it easier and faster for network to learn\n",
    "#makes the learning faster as well\n",
    "x_train_normalized= tf.keras.utils.normalize(x_train,axis=1)\n",
    "x_test_normalized= tf.keras.utils.normalize(x_test,axis=1)"
   ]
  },
  {
   "cell_type": "code",
   "execution_count": 23,
   "metadata": {},
   "outputs": [
    {
     "name": "stdout",
     "output_type": "stream",
     "text": [
      "Start time:1539395951.4835167\n",
      "Epoch 1/3\n",
      "60000/60000 [==============================] - 5s 78us/step - loss: 0.2670 - acc: 0.9199\n",
      "Epoch 2/3\n",
      "60000/60000 [==============================] - 4s 70us/step - loss: 0.1099 - acc: 0.9668\n",
      "Epoch 3/3\n",
      "60000/60000 [==============================] - 5s 81us/step - loss: 0.0740 - acc: 0.9766\n",
      "end time:1539395965.9569485\n"
     ]
    }
   ],
   "source": [
    "print('Start time:'+str(time.time()))\n",
    "#Building the sequential model which is feed forward\n",
    "model=tf.keras.models.Sequential()\n",
    "\n",
    "#converting the 28x28 multidimensional array into a flat array\n",
    "#instead of keras flatten we can also use numpy reshape\n",
    "#the input layer\n",
    "model.add(tf.keras.layers.Flatten())\n",
    "\n",
    "#now taking the hidden layer as dense layer with 128 units/neuron and rectified linear as activation function\n",
    "model.add(tf.keras.layers.Dense(128,activation=tf.nn.relu))\n",
    "\n",
    "#adding the second hidden layer\n",
    "model.add(tf.keras.layers.Dense(128,activation=tf.nn.relu))\n",
    "\n",
    "#adding the output layer where the o. of units will be number of classification i.e 10\n",
    "#using softmax in output layer for probability distribution\n",
    "model.add(tf.keras.layers.Dense(10,activation=tf.nn.softmax))\n",
    "\n",
    "#initializing the hyperparameters\n",
    "model.compile(optimizer='adam',\n",
    "             loss='sparse_categorical_crossentropy',\n",
    "             metrics=['accuracy'])\n",
    "\n",
    "#training the model\n",
    "#epoch is used to define the number of times we want the neural network to go over the dataset\n",
    "model.fit(x_train_normalized,y_train,epochs=3)\n",
    "print('end time:'+str(time.time()))"
   ]
  },
  {
   "cell_type": "code",
   "execution_count": 24,
   "metadata": {},
   "outputs": [
    {
     "name": "stdout",
     "output_type": "stream",
     "text": [
      "10000/10000 [==============================] - 0s 35us/step\n"
     ]
    },
    {
     "data": {
      "text/plain": [
       "[0.09565742212943733, 0.9707]"
      ]
     },
     "execution_count": 24,
     "metadata": {},
     "output_type": "execute_result"
    }
   ],
   "source": [
    "#running the built model over the test dataset\n",
    "model.evaluate(x_test_normalized,y_test)"
   ]
  },
  {
   "cell_type": "code",
   "execution_count": 25,
   "metadata": {
    "collapsed": true
   },
   "outputs": [],
   "source": [
    "#saving the used model\n",
    "model.save('C:/Users/Nikhar/Downloads/Side_work/TensorFlow/project/model/mnist_normalized.model')"
   ]
  },
  {
   "cell_type": "code",
   "execution_count": 27,
   "metadata": {},
   "outputs": [],
   "source": [
    "model_load=tf.keras.models.load_model('C:/Users/Nikhar/Downloads/Side_work/TensorFlow/project/model/mnist_normalized.model')"
   ]
  },
  {
   "cell_type": "code",
   "execution_count": 28,
   "metadata": {},
   "outputs": [
    {
     "name": "stdout",
     "output_type": "stream",
     "text": [
      "10000/10000 [==============================] - 0s 48us/step\n"
     ]
    },
    {
     "data": {
      "text/plain": [
       "[0.09565742212943733, 0.9707]"
      ]
     },
     "execution_count": 28,
     "metadata": {},
     "output_type": "execute_result"
    }
   ],
   "source": [
    "\n",
    "model_load.evaluate(x_test_normalized,y_test)"
   ]
  },
  {
   "cell_type": "code",
   "execution_count": null,
   "metadata": {
    "collapsed": true
   },
   "outputs": [],
   "source": []
  },
  {
   "cell_type": "code",
   "execution_count": 12,
   "metadata": {},
   "outputs": [
    {
     "data": {
      "image/png": "[encoded data removed]",
      "text/plain": [
       "<matplotlib.figure.Figure at 0x218cb7f8898>"
      ]
     },
     "metadata": {},
     "output_type": "display_data"
    }
   ],
   "source": [
    "#checking the downloaded data\n",
    "#cmap=plt.cm.binary shows the image in black and white\n",
    "plt.imshow(x_train[3],cmap=plt.cm.binary)\n",
    "plt.show()"
   ]
  },
  {
   "cell_type": "code",
   "execution_count": 13,
   "metadata": {},
   "outputs": [
    {
     "name": "stdout",
     "output_type": "stream",
     "text": [
      "1\n"
     ]
    }
   ],
   "source": [
    "print(y_train[3])"
   ]
  },
  {
   "cell_type": "code",
   "execution_count": null,
   "metadata": {
    "collapsed": true
   },
   "outputs": [],
   "source": []
  },
  {
   "cell_type": "code",
   "execution_count": null,
   "metadata": {
    "collapsed": true
   },
   "outputs": [],
   "source": []
  }
 ],
 "metadata": {
  "kernelspec": {
   "display_name": "Python 3",
   "language": "python",
   "name": "python3"
  },
  "language_info": {
   "codemirror_mode": {
    "name": "ipython",
    "version": 3
   },
   "file_extension": ".py",
   "mimetype": "text/x-python",
   "name": "python",
   "nbconvert_exporter": "python",
   "pygments_lexer": "ipython3",
   "version": "3.6.3"
  }
 },
 "nbformat": 4,
 "nbformat_minor": 2
}
